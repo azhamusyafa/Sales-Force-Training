{
 "cells": [
  {
   "cell_type": "markdown",
   "id": "35b0fc34-97fc-4052-b7d9-158764754140",
   "metadata": {},
   "source": [
    "<h1>PROJECT 1<h1>\n",
    "<h2>analisis measure of variability</h2>"
   ]
  },
  {
   "cell_type": "code",
   "execution_count": 13,
   "id": "24ffdcec-d5c0-4889-94c3-26de947ebefa",
   "metadata": {},
   "outputs": [],
   "source": [
    "import pandas as pd\n",
    "import numpy as np\n",
    "import scipy.stats as stats"
   ]
  },
  {
   "cell_type": "code",
   "execution_count": 19,
   "id": "eb4e50d4-bbff-41e5-b923-6995fc286663",
   "metadata": {},
   "outputs": [],
   "source": [
    "data=pd.DataFrame([100,150,50,100,130,120,100,85,70,150,150,120,50,100,100,140,90,150,50,90,120,100,110,75,65],\n",
    "                columns=[\"Transactions Amount\"])"
   ]
  },
  {
   "cell_type": "code",
   "execution_count": 21,
   "id": "fb2d629a-d52c-47da-b15b-151cd3272eae",
   "metadata": {},
   "outputs": [
    {
     "data": {
      "text/plain": [
       "25"
      ]
     },
     "execution_count": 21,
     "metadata": {},
     "output_type": "execute_result"
    }
   ],
   "source": [
    "len(data)"
   ]
  },
  {
   "cell_type": "code",
   "execution_count": 23,
   "id": "c57e226b-eab0-4fd0-ab5d-2c3e591dc508",
   "metadata": {},
   "outputs": [
    {
     "data": {
      "text/html": [
       "<div>\n",
       "<style scoped>\n",
       "    .dataframe tbody tr th:only-of-type {\n",
       "        vertical-align: middle;\n",
       "    }\n",
       "\n",
       "    .dataframe tbody tr th {\n",
       "        vertical-align: top;\n",
       "    }\n",
       "\n",
       "    .dataframe thead th {\n",
       "        text-align: right;\n",
       "    }\n",
       "</style>\n",
       "<table border=\"1\" class=\"dataframe\">\n",
       "  <thead>\n",
       "    <tr style=\"text-align: right;\">\n",
       "      <th></th>\n",
       "      <th>Transactions Amount</th>\n",
       "    </tr>\n",
       "  </thead>\n",
       "  <tbody>\n",
       "    <tr>\n",
       "      <th>0</th>\n",
       "      <td>100</td>\n",
       "    </tr>\n",
       "    <tr>\n",
       "      <th>1</th>\n",
       "      <td>150</td>\n",
       "    </tr>\n",
       "    <tr>\n",
       "      <th>2</th>\n",
       "      <td>50</td>\n",
       "    </tr>\n",
       "    <tr>\n",
       "      <th>3</th>\n",
       "      <td>100</td>\n",
       "    </tr>\n",
       "    <tr>\n",
       "      <th>4</th>\n",
       "      <td>130</td>\n",
       "    </tr>\n",
       "    <tr>\n",
       "      <th>5</th>\n",
       "      <td>120</td>\n",
       "    </tr>\n",
       "    <tr>\n",
       "      <th>6</th>\n",
       "      <td>100</td>\n",
       "    </tr>\n",
       "    <tr>\n",
       "      <th>7</th>\n",
       "      <td>85</td>\n",
       "    </tr>\n",
       "    <tr>\n",
       "      <th>8</th>\n",
       "      <td>70</td>\n",
       "    </tr>\n",
       "    <tr>\n",
       "      <th>9</th>\n",
       "      <td>150</td>\n",
       "    </tr>\n",
       "    <tr>\n",
       "      <th>10</th>\n",
       "      <td>150</td>\n",
       "    </tr>\n",
       "    <tr>\n",
       "      <th>11</th>\n",
       "      <td>120</td>\n",
       "    </tr>\n",
       "    <tr>\n",
       "      <th>12</th>\n",
       "      <td>50</td>\n",
       "    </tr>\n",
       "    <tr>\n",
       "      <th>13</th>\n",
       "      <td>100</td>\n",
       "    </tr>\n",
       "    <tr>\n",
       "      <th>14</th>\n",
       "      <td>100</td>\n",
       "    </tr>\n",
       "    <tr>\n",
       "      <th>15</th>\n",
       "      <td>140</td>\n",
       "    </tr>\n",
       "    <tr>\n",
       "      <th>16</th>\n",
       "      <td>90</td>\n",
       "    </tr>\n",
       "    <tr>\n",
       "      <th>17</th>\n",
       "      <td>150</td>\n",
       "    </tr>\n",
       "    <tr>\n",
       "      <th>18</th>\n",
       "      <td>50</td>\n",
       "    </tr>\n",
       "    <tr>\n",
       "      <th>19</th>\n",
       "      <td>90</td>\n",
       "    </tr>\n",
       "    <tr>\n",
       "      <th>20</th>\n",
       "      <td>120</td>\n",
       "    </tr>\n",
       "    <tr>\n",
       "      <th>21</th>\n",
       "      <td>100</td>\n",
       "    </tr>\n",
       "    <tr>\n",
       "      <th>22</th>\n",
       "      <td>110</td>\n",
       "    </tr>\n",
       "    <tr>\n",
       "      <th>23</th>\n",
       "      <td>75</td>\n",
       "    </tr>\n",
       "    <tr>\n",
       "      <th>24</th>\n",
       "      <td>65</td>\n",
       "    </tr>\n",
       "  </tbody>\n",
       "</table>\n",
       "</div>"
      ],
      "text/plain": [
       "    Transactions Amount\n",
       "0                   100\n",
       "1                   150\n",
       "2                    50\n",
       "3                   100\n",
       "4                   130\n",
       "5                   120\n",
       "6                   100\n",
       "7                    85\n",
       "8                    70\n",
       "9                   150\n",
       "10                  150\n",
       "11                  120\n",
       "12                   50\n",
       "13                  100\n",
       "14                  100\n",
       "15                  140\n",
       "16                   90\n",
       "17                  150\n",
       "18                   50\n",
       "19                   90\n",
       "20                  120\n",
       "21                  100\n",
       "22                  110\n",
       "23                   75\n",
       "24                   65"
      ]
     },
     "execution_count": 23,
     "metadata": {},
     "output_type": "execute_result"
    }
   ],
   "source": [
    "data"
   ]
  },
  {
   "cell_type": "code",
   "execution_count": 25,
   "id": "6141251b-0f7c-4410-90f2-1ad614e6498d",
   "metadata": {},
   "outputs": [
    {
     "data": {
      "text/html": [
       "<div>\n",
       "<style scoped>\n",
       "    .dataframe tbody tr th:only-of-type {\n",
       "        vertical-align: middle;\n",
       "    }\n",
       "\n",
       "    .dataframe tbody tr th {\n",
       "        vertical-align: top;\n",
       "    }\n",
       "\n",
       "    .dataframe thead th {\n",
       "        text-align: right;\n",
       "    }\n",
       "</style>\n",
       "<table border=\"1\" class=\"dataframe\">\n",
       "  <thead>\n",
       "    <tr style=\"text-align: right;\">\n",
       "      <th></th>\n",
       "      <th>Transactions Amount</th>\n",
       "    </tr>\n",
       "  </thead>\n",
       "  <tbody>\n",
       "    <tr>\n",
       "      <th>count</th>\n",
       "      <td>25.000000</td>\n",
       "    </tr>\n",
       "    <tr>\n",
       "      <th>mean</th>\n",
       "      <td>102.600000</td>\n",
       "    </tr>\n",
       "    <tr>\n",
       "      <th>std</th>\n",
       "      <td>31.823733</td>\n",
       "    </tr>\n",
       "    <tr>\n",
       "      <th>min</th>\n",
       "      <td>50.000000</td>\n",
       "    </tr>\n",
       "    <tr>\n",
       "      <th>25%</th>\n",
       "      <td>85.000000</td>\n",
       "    </tr>\n",
       "    <tr>\n",
       "      <th>50%</th>\n",
       "      <td>100.000000</td>\n",
       "    </tr>\n",
       "    <tr>\n",
       "      <th>75%</th>\n",
       "      <td>120.000000</td>\n",
       "    </tr>\n",
       "    <tr>\n",
       "      <th>max</th>\n",
       "      <td>150.000000</td>\n",
       "    </tr>\n",
       "  </tbody>\n",
       "</table>\n",
       "</div>"
      ],
      "text/plain": [
       "       Transactions Amount\n",
       "count            25.000000\n",
       "mean            102.600000\n",
       "std              31.823733\n",
       "min              50.000000\n",
       "25%              85.000000\n",
       "50%             100.000000\n",
       "75%             120.000000\n",
       "max             150.000000"
      ]
     },
     "execution_count": 25,
     "metadata": {},
     "output_type": "execute_result"
    }
   ],
   "source": [
    "data.describe()"
   ]
  },
  {
   "cell_type": "code",
   "execution_count": 27,
   "id": "4418f725-3cc6-4522-a98c-a4fd9614893b",
   "metadata": {},
   "outputs": [
    {
     "name": "stdout",
     "output_type": "stream",
     "text": [
      "<class 'pandas.core.frame.DataFrame'>\n",
      "RangeIndex: 25 entries, 0 to 24\n",
      "Data columns (total 1 columns):\n",
      " #   Column               Non-Null Count  Dtype\n",
      "---  ------               --------------  -----\n",
      " 0   Transactions Amount  25 non-null     int64\n",
      "dtypes: int64(1)\n",
      "memory usage: 332.0 bytes\n"
     ]
    }
   ],
   "source": [
    "data.info()"
   ]
  },
  {
   "cell_type": "code",
   "execution_count": 29,
   "id": "2d45fd7a-c95e-4400-8435-6b5cea53fb3c",
   "metadata": {},
   "outputs": [
    {
     "data": {
      "text/plain": [
       "(25, 1)"
      ]
     },
     "execution_count": 29,
     "metadata": {},
     "output_type": "execute_result"
    }
   ],
   "source": [
    "data.shape"
   ]
  },
  {
   "cell_type": "markdown",
   "id": "c8f75feb-8e1f-418d-a4be-44ab7a2179c8",
   "metadata": {},
   "source": [
    "<h2>analisis measure of central tendency<h2>"
   ]
  },
  {
   "cell_type": "code",
   "execution_count": 31,
   "id": "5e6b9572-f3fb-4949-82b6-3454de1fbadd",
   "metadata": {},
   "outputs": [
    {
     "data": {
      "text/plain": [
       "Transactions Amount    102.6\n",
       "dtype: float64"
      ]
     },
     "execution_count": 31,
     "metadata": {},
     "output_type": "execute_result"
    }
   ],
   "source": [
    "data.mean()"
   ]
  },
  {
   "cell_type": "code",
   "execution_count": 33,
   "id": "32fe4d5b-2298-4a58-b905-7b7b2d525008",
   "metadata": {},
   "outputs": [
    {
     "data": {
      "text/plain": [
       "Transactions Amount    100.0\n",
       "dtype: float64"
      ]
     },
     "execution_count": 33,
     "metadata": {},
     "output_type": "execute_result"
    }
   ],
   "source": [
    "data.median()"
   ]
  },
  {
   "cell_type": "code",
   "execution_count": 35,
   "id": "e6c73f11-4e89-402f-975f-fa14cd44095a",
   "metadata": {},
   "outputs": [
    {
     "data": {
      "text/html": [
       "<div>\n",
       "<style scoped>\n",
       "    .dataframe tbody tr th:only-of-type {\n",
       "        vertical-align: middle;\n",
       "    }\n",
       "\n",
       "    .dataframe tbody tr th {\n",
       "        vertical-align: top;\n",
       "    }\n",
       "\n",
       "    .dataframe thead th {\n",
       "        text-align: right;\n",
       "    }\n",
       "</style>\n",
       "<table border=\"1\" class=\"dataframe\">\n",
       "  <thead>\n",
       "    <tr style=\"text-align: right;\">\n",
       "      <th></th>\n",
       "      <th>Transactions Amount</th>\n",
       "    </tr>\n",
       "  </thead>\n",
       "  <tbody>\n",
       "    <tr>\n",
       "      <th>0</th>\n",
       "      <td>100</td>\n",
       "    </tr>\n",
       "  </tbody>\n",
       "</table>\n",
       "</div>"
      ],
      "text/plain": [
       "   Transactions Amount\n",
       "0                  100"
      ]
     },
     "execution_count": 35,
     "metadata": {},
     "output_type": "execute_result"
    }
   ],
   "source": [
    "data.mode()"
   ]
  },
  {
   "cell_type": "markdown",
   "id": "39216846-29be-4e9d-ac62-e2f5a2d554e1",
   "metadata": {},
   "source": [
    "<h2>analisis measure of variability<h2>"
   ]
  },
  {
   "cell_type": "code",
   "execution_count": 37,
   "id": "caf34248-6afd-47a7-9cdc-9d46bf49a7ad",
   "metadata": {},
   "outputs": [
    {
     "data": {
      "text/plain": [
       "Transactions Amount    100\n",
       "dtype: int64"
      ]
     },
     "execution_count": 37,
     "metadata": {},
     "output_type": "execute_result"
    }
   ],
   "source": [
    "range_value = data.max() - data.min()\n",
    "range_value"
   ]
  },
  {
   "cell_type": "code",
   "execution_count": 39,
   "id": "79c4ed65-6edc-4812-b3a6-8b9f985f2181",
   "metadata": {},
   "outputs": [
    {
     "data": {
      "text/plain": [
       "<bound method DataFrame.var of     Transactions Amount\n",
       "0                   100\n",
       "1                   150\n",
       "2                    50\n",
       "3                   100\n",
       "4                   130\n",
       "5                   120\n",
       "6                   100\n",
       "7                    85\n",
       "8                    70\n",
       "9                   150\n",
       "10                  150\n",
       "11                  120\n",
       "12                   50\n",
       "13                  100\n",
       "14                  100\n",
       "15                  140\n",
       "16                   90\n",
       "17                  150\n",
       "18                   50\n",
       "19                   90\n",
       "20                  120\n",
       "21                  100\n",
       "22                  110\n",
       "23                   75\n",
       "24                   65>"
      ]
     },
     "execution_count": 39,
     "metadata": {},
     "output_type": "execute_result"
    }
   ],
   "source": [
    "variance_value=data.var\n",
    "variance_value"
   ]
  },
  {
   "cell_type": "code",
   "execution_count": 41,
   "id": "e9e96f7c-6e8d-4812-8ec2-ac42b0d6e37f",
   "metadata": {},
   "outputs": [
    {
     "data": {
      "text/plain": [
       "Transactions Amount    31.823733\n",
       "dtype: float64"
      ]
     },
     "execution_count": 41,
     "metadata": {},
     "output_type": "execute_result"
    }
   ],
   "source": [
    "std_dev_value = data.std()\n",
    "std_dev_value"
   ]
  },
  {
   "cell_type": "markdown",
   "id": "2c5ac514-5470-47bc-9c28-f61e5a9923b6",
   "metadata": {},
   "source": [
    "<h3>h0=penjualan rata-rata yaitu $100 per transaksi</h3> \n",
    "<h3>h1=penjualan rata-rata yaitu meningkat</h3>"
   ]
  },
  {
   "cell_type": "code",
   "execution_count": 52,
   "id": "c87106d4-f16e-435a-989d-679bda300d1b",
   "metadata": {},
   "outputs": [
    {
     "data": {
      "text/plain": [
       "TtestResult(statistic=array([0.40850016]), pvalue=array([0.68652848]), df=array([24]))"
      ]
     },
     "execution_count": 52,
     "metadata": {},
     "output_type": "execute_result"
    }
   ],
   "source": [
    "#define alpha=0.05\n",
    "#pop mean= rata rata\n",
    "stats.ttest_1samp(a=data, popmean=100)"
   ]
  },
  {
   "cell_type": "code",
   "execution_count": 58,
   "id": "b3cbc3ff-d12d-43ef-9743-669609af4a64",
   "metadata": {},
   "outputs": [
    {
     "data": {
      "text/plain": [
       "6.707476314827955e-17"
      ]
     },
     "execution_count": 58,
     "metadata": {},
     "output_type": "execute_result"
    }
   ],
   "source": [
    "stats.t.ppf(1-0.5, 24)"
   ]
  },
  {
   "cell_type": "markdown",
   "id": "2cbdb38f-bbb4-42f0-a662-376ed535a90c",
   "metadata": {},
   "source": [
    "<h3>gagal atau penjualan rata rata tetap $100</h3>"
   ]
  },
  {
   "cell_type": "code",
   "execution_count": null,
   "id": "521452e2-9f52-4461-9c2e-3e97ecbdeb57",
   "metadata": {},
   "outputs": [],
   "source": []
  }
 ],
 "metadata": {
  "kernelspec": {
   "display_name": "Python 3 (ipykernel)",
   "language": "python",
   "name": "python3"
  },
  "language_info": {
   "codemirror_mode": {
    "name": "ipython",
    "version": 3
   },
   "file_extension": ".py",
   "mimetype": "text/x-python",
   "name": "python",
   "nbconvert_exporter": "python",
   "pygments_lexer": "ipython3",
   "version": "3.12.4"
  }
 },
 "nbformat": 4,
 "nbformat_minor": 5
}
